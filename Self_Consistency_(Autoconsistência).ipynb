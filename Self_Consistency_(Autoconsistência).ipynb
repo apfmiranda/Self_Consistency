{
  "nbformat": 4,
  "nbformat_minor": 0,
  "metadata": {
    "colab": {
      "provenance": [],
      "authorship_tag": "ABX9TyN8PMeNrbPUV8F3dVgZ0HGO",
      "include_colab_link": true
    },
    "kernelspec": {
      "name": "python3",
      "display_name": "Python 3"
    },
    "language_info": {
      "name": "python"
    }
  },
  "cells": [
    {
      "cell_type": "markdown",
      "metadata": {
        "id": "view-in-github",
        "colab_type": "text"
      },
      "source": [
        "<a href=\"https://colab.research.google.com/github/apfmiranda/Self_Consistency/blob/main/Self_Consistency_(Autoconsist%C3%AAncia).ipynb\" target=\"_parent\"><img src=\"https://colab.research.google.com/assets/colab-badge.svg\" alt=\"Open In Colab\"/></a>"
      ]
    },
    {
      "cell_type": "code",
      "execution_count": 1,
      "metadata": {
        "id": "BmRNcs0Z5An_"
      },
      "outputs": [],
      "source": [
        "pip install -q openai"
      ]
    },
    {
      "cell_type": "code",
      "source": [
        "from google.colab import userdata\n",
        "import openai\n",
        "\n",
        "# seta a API key\n",
        "openai.api_key = userdata.get('OPENAI_API_KEY')\n",
        "\n",
        "# Definição de persona do sistema e histórico de mensagens\n",
        "messages = [\n",
        "    {\"role\": \"system\", \"content\": \"You are a helpful assistant.\"},  # seta a persona do modelo, se vai ser educado, formal, sarcástico etc.\n",
        "]\n",
        "\n",
        "# SELF-CONSISTENCY\n",
        "answers = []\n",
        "\n",
        "LOOPS = 7\n",
        "\n",
        "prompt = \"\"\"Retorne no final sempre a string 'Resultado: ' com apenas valor do resultado depois dela, nenhuma operação nem pontuação além do valor.\n",
        "\n",
        "Pergunta: Se houver 3 carros no estacionamento e chegarem mais 2 carros, quantos carros estarão no estacionamento?\n",
        "\n",
        "Resposta: Já existem 3 carros no estacionamento. Chegam mais 2. Agora existem 3 + 2 = 5 carros. A resposta é 5.\n",
        "\n",
        "Resultado: 5\n",
        "\n",
        "Pergunta: Os patos de Janet botam 16 ovos por dia. Ela come três no café da manhã todas as manhãs e faz muffins para seus amigos todos os dias utilizando mais quatro.\n",
        "Ela vende o restante por 2 dólares por ovo. Quanto dinheiro ela ganha todos os dias?\n",
        "\n",
        "Resposta:\n",
        "\n",
        "Resultado:\"\"\"\n",
        "\n",
        "\n",
        "messages.append({\"role\": \"user\", \"content\": prompt})  # adiciona sua pergunta no histórico do chat\n",
        "\n",
        "for loop in range(0, LOOPS):\n",
        "    # Chamada à API\n",
        "    response = openai.chat.completions.create(\n",
        "        model = \"gpt-3.5-turbo\",\n",
        "        messages = messages,\n",
        "        max_tokens = 200,\n",
        "        temperature = 1\n",
        "    )\n",
        "\n",
        "    # Extrai a resposta de dentro do JSON de resposta\n",
        "    answer = response.choices[0].message.content\n",
        "    print(f\"### LOOP\", loop, ':\\n')\n",
        "    print(answer)\n",
        "\n",
        "    start_index = answer.find(\"Resultado: \") + len(\"Resultado: \")\n",
        "    if start_index != -1:\n",
        "        # Check if the extracted string is empty or contains only whitespace\n",
        "        extracted_string = answer[start_index:].strip()\n",
        "        if extracted_string:\n",
        "            number_answer = extracted_string.split()[0].rstrip('.')\n",
        "            print(\"Answer:\", number_answer, '\\n------')\n",
        "            answers.append(int(number_answer))  # adiciona a resposta à lista de respostas\n",
        "        else:\n",
        "            print(\"Warning: 'Resultado: ' found, but no value provided.\\n------\")\n",
        "\n",
        "print(answers, '\\n')\n",
        "\n",
        "most_frequent_answer = max(set(answers), key=answers.count)\n",
        "print(\"Most frequent answer:\", most_frequent_answer)"
      ],
      "metadata": {
        "id": "JVC8ff1h5K2D",
        "colab": {
          "base_uri": "https://localhost:8080/"
        },
        "outputId": "243a2354-d9d0-4a6b-9369-a27c9640417f"
      },
      "execution_count": 4,
      "outputs": [
        {
          "output_type": "stream",
          "name": "stdout",
          "text": [
            "### LOOP 0 :\n",
            "\n",
            "Janet ganha dinheiro todos os dias através da venda dos ovos restantes. Cada dia ela vende 16 - 3 (para o café da manhã) - 4 (para os muffins) = 9 ovos. Se ela vende cada ovo por 2 dólares, então ela ganha 9 * 2 = 18 dólares por dia.\n",
            "\n",
            "Resultado: 18\n",
            "Answer: 18 \n",
            "------\n",
            "### LOOP 1 :\n",
            "\n",
            "Janet ganha dinheiro vendendo ovos que não consome no café da manhã ou usa para fazer muffins para seus amigos. Ela ganha com a venda de 16 - (3 + 4) = 9 ovos por dia. Se ela vende cada ovo por 2 dólares, ela ganha 9 * 2 = 18 dólares por dia.\n",
            "\n",
            "Resultado: 18\n",
            "Answer: 18 \n",
            "------\n",
            "### LOOP 2 :\n",
            "\n",
            "Janet ganha dinheiro vendendo os ovos que os patos botam. Ela come 3 ovos no café da manhã e usa mais 4 para fazer muffins, sobrando 16 - 3 - 4 = 9 ovos para vender. A cada dia ela ganha 9 * 2 = 18 dólares com a venda dos ovos.\n",
            "\n",
            "Resultado: 18\n",
            "Answer: 18 \n",
            "------\n",
            "### LOOP 3 :\n",
            "\n",
            "Janet ganha dinheiro vendendo 16 - 3 - 4 = 9 ovos por dia.\n",
            "Então, ela ganha 9 * 2 = 18 dólares por dia.\n",
            "\n",
            "Resultado: 18\n",
            "Answer: 18 \n",
            "------\n",
            "### LOOP 4 :\n",
            "\n",
            "Janet ganha dinheiro vendendo os ovos que não consome ou utiliza para fazer muffins. Ela ganha com a venda de 16 - 3 - 4 = 9 ovos por dia. \n",
            "Portanto, ela ganha 9 * 2 = 18 dólares por dia.\n",
            "\n",
            "Resultado: 18\n",
            "Answer: 18 \n",
            "------\n",
            "### LOOP 5 :\n",
            "\n",
            "Janet ganha $24 por dia com a venda dos ovos.\n",
            "\n",
            "Resultado: 24\n",
            "Answer: 24 \n",
            "------\n",
            "### LOOP 6 :\n",
            "\n",
            "Janet ganha $24 todos os dias.\n",
            "\n",
            "Resultado: 24\n",
            "Answer: 24 \n",
            "------\n",
            "[18, 18, 18, 18, 18, 24, 24] \n",
            "\n",
            "Most frequent answer: 18\n"
          ]
        }
      ]
    }
  ]
}